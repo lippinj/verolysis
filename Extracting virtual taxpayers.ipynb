{
 "cells": [
  {
   "cell_type": "code",
   "execution_count": 1,
   "id": "d3e400c1-a6cd-445e-8e66-bafb8f1a4319",
   "metadata": {},
   "outputs": [],
   "source": [
    "import sys\n",
    "sys.path.append(\"src\")\n",
    "\n",
    "import dataclasses\n",
    "import numpy as np\n",
    "import itertools\n",
    "from matplotlib import pyplot as plt\n",
    "\n",
    "import statfin\n",
    "import verolysis"
   ]
  },
  {
   "cell_type": "code",
   "execution_count": 2,
   "id": "c9e3bdaf-87bc-4b53-ac56-f6013ac76795",
   "metadata": {},
   "outputs": [],
   "source": [
    "db = statfin.PxWebAPI.Verohallinto()\n",
    "tbl = db.table(\"Vero\", \"tulot_101.px\")"
   ]
  },
  {
   "cell_type": "code",
   "execution_count": 3,
   "id": "1e4349ec-f1e1-4d88-aa36-49f541d2a93f",
   "metadata": {},
   "outputs": [],
   "source": [
    "BITS = [\n",
    "    \"HVT_TULOT_10\",  # Lukumäärä\n",
    "    \"HVT_TULOT_70\",  # Ansiotulot\n",
    "    \"HVT_TULOT_80\",  # Palkkatulot\n",
    "    \"HVT_TULOT_280\", # Eläketulot\n",
    "]"
   ]
  },
  {
   "cell_type": "code",
   "execution_count": 4,
   "id": "335b9f49-1923-4c03-a401-4226e0f2c7a7",
   "metadata": {},
   "outputs": [],
   "source": [
    "df = tbl.query({\n",
    "    \"Verovuosi\": 2022,\n",
    "    \"Erä\": BITS,\n",
    "    \"Tulonsaajaryhmä\": \"*\",\n",
    "    \"Tuloluokka\": \"*\",\n",
    "    \"Tunnusluvut\": \"*\",\n",
    "})"
   ]
  },
  {
   "cell_type": "code",
   "execution_count": 6,
   "id": "5f0b6750-5a37-4db7-87bf-8ca82b37e849",
   "metadata": {},
   "outputs": [],
   "source": [
    "def get_cell_row(df, grp, cls, bit):\n",
    "    \"\"\"Poimi soluindeksin ja erän mukainen rivi\"\"\"\n",
    "    df = df[(df.Tulonsaajaryhmä == str(grp)) & (df.Tuloluokka == str(cls)) & (df.Erä == bit)]\n",
    "    assert len(df) == 1, len(df)\n",
    "    return df.iloc[0]"
   ]
  },
  {
   "cell_type": "code",
   "execution_count": 7,
   "id": "fb8bd67e-75a1-4526-8338-88deb530dd76",
   "metadata": {},
   "outputs": [],
   "source": [
    "def get_cell_size(df, grp, cls):\n",
    "    \"\"\"Henkilöiden lukumäärä solussa\"\"\"\n",
    "    return get_cell_row(df, grp, cls, \"HVT_TULOT_10\").N"
   ]
  },
  {
   "cell_type": "code",
   "execution_count": 26,
   "id": "64075773-5156-42f8-8622-2377ea6c4255",
   "metadata": {},
   "outputs": [],
   "source": [
    "def iter_cell_keys_gc(df):\n",
    "    \"\"\"\n",
    "    Soluindeksit tulonsaajaryhmän ja tuloluokan mukaan\n",
    "\n",
    "    Soluindeksi on pari (tulonsaajaryhmä, tuloluokka). Tämä palauttaa\n",
    "    listan niistä indekseistä, jotka dataframesta löytyvät.\n",
    "    \"\"\"\n",
    "    df = df[(df.Tulonsaajaryhmä != \"Y\") & (df.Tuloluokka != \"SS\")]\n",
    "    i = 0\n",
    "    for g in sorted(df.Tulonsaajaryhmä.unique().astype(int)):\n",
    "        for c in sorted(df.Tulonsaajaryhmä.unique().astype(int)):\n",
    "            N = get_cell_size(df, g, c)\n",
    "            if np.isfinite(N) and N > 0:\n",
    "                N = int(N)\n",
    "                k = int(1 + (N // 10))\n",
    "                yield g, c, N, k, i\n",
    "                i += k"
   ]
  },
  {
   "cell_type": "code",
   "execution_count": 8,
   "id": "fbb3398d-34f7-4b37-9d9a-69876308ff3e",
   "metadata": {},
   "outputs": [],
   "source": [
    "def get_cell_density(df, grp, cls, bit):\n",
    "    \"\"\"Solun erän tiheysfunktio\"\"\"\n",
    "    row = get_cell_row(df, grp, cls, bit)\n",
    "    if row.Mean is None:\n",
    "        return None\n",
    "    return verolysis.income_brackets.row_to_density(row)"
   ]
  },
  {
   "cell_type": "code",
   "execution_count": 55,
   "id": "c7bea56f-af6d-4054-ad47-39e1d39b80da",
   "metadata": {},
   "outputs": [],
   "source": [
    "def sample_cell(df, grp, cls, bit, k):\n",
    "    \"\"\"Poimi otanta solusta\"\"\"\n",
    "    N = get_cell_size(df, grp, cls)\n",
    "    d = get_cell_density(df, grp, cls, bit)\n",
    "    if d is None:\n",
    "        return np.zeros(k)\n",
    "    s = d.uniform_sample(k, leftpad=N, left=0)\n",
    "    if any(np.isnan(s)):\n",
    "        return np.zeros(k)\n",
    "    return s"
   ]
  },
  {
   "cell_type": "code",
   "execution_count": 63,
   "id": "fcf70860-a30e-4dfa-a5dc-5173f6df500d",
   "metadata": {},
   "outputs": [
    {
     "name": "stdout",
     "output_type": "stream",
     "text": [
      "466,253 samples of 4,661,862 persons in 132 cells\n"
     ]
    }
   ],
   "source": [
    "keys = list(iter_cell_keys_gc(df))\n",
    "M = np.sum([N for _, _, N, _, _ in keys])\n",
    "N = np.sum([k for _, _, _, k, _ in keys])\n",
    "print(f\"{int(N):,} samples of {int(M):,} persons in {len(keys)} cells\")\n",
    "\n",
    "bits = [\"HVT_TULOT_70\", \"HVT_TULOT_80\", \"HVT_TULOT_280\"]\n",
    "V = {}\n",
    "for bit in bits:\n",
    "    v = np.zeros(N)\n",
    "    for g, c, _, k, i in keys:\n",
    "        s = sample_cell(df, g, c, bit, k)\n",
    "        v[i:i+k] = s\n",
    "    V[bit] = v"
   ]
  },
  {
   "cell_type": "code",
   "execution_count": 86,
   "id": "55a2abe9-9ed6-40a7-8399-06fec4f88339",
   "metadata": {},
   "outputs": [
    {
     "name": "stdout",
     "output_type": "stream",
     "text": [
      "Tulonsaajaryhmä: Pääomatulon saaja (11)\n",
      "Tuloluokka:      45 000 – 49 999 (10)\n",
      "HVT_TULOT_70:    19587\n",
      "HVT_TULOT_80:    0\n",
      "HVT_TULOT_280:   11920\n",
      "Tulonsaajaryhmä: Pääomatulon saaja (11)\n",
      "Tuloluokka:      45 000 – 49 999 (10)\n",
      "HVT_TULOT_70:    11706\n",
      "HVT_TULOT_80:    0\n",
      "HVT_TULOT_280:   0\n",
      "Tulonsaajaryhmä: Muut (7)\n",
      "Tuloluokka:      60 000 – 64 999 (13)\n",
      "HVT_TULOT_70:    63069\n",
      "HVT_TULOT_80:    0\n",
      "HVT_TULOT_280:   0\n",
      "Tulonsaajaryhmä: Elinkeinonharjoittaja (4)\n",
      "Tuloluokka:      15 000 – 19 999 (4)\n",
      "HVT_TULOT_70:    19383\n",
      "HVT_TULOT_80:    3342\n",
      "HVT_TULOT_280:   0\n",
      "Tulonsaajaryhmä: Maatalouden harjoittaja (3)\n",
      "Tuloluokka:      45 000 – 49 999 (10)\n",
      "HVT_TULOT_70:    23572\n",
      "HVT_TULOT_80:    0\n",
      "HVT_TULOT_280:   0\n"
     ]
    }
   ],
   "source": [
    "def rnd():\n",
    "    import random\n",
    "    ki = random.randint(0, len(keys)-1)\n",
    "    g, c, _, k, i = keys[ki]\n",
    "    ii = random.randint(0, k-1)\n",
    "    d = tbl.values[\"Tulonsaajaryhmä\"]\n",
    "    G = d[d.code == str(g)].iloc[0].text\n",
    "    print(f\"Tulonsaajaryhmä: {G} ({g})\")\n",
    "    d = tbl.values[\"Tuloluokka\"]\n",
    "    C = d[d.code == str(c)].iloc[0].text\n",
    "    print(f\"Tuloluokka:      {C} ({c})\")\n",
    "    for bit in bits:\n",
    "        v = V[bit]\n",
    "        print(f\"{bit+':':<16} {v[i+ii]:.0f}\")\n",
    "\n",
    "for i in range(5):\n",
    "    rnd()"
   ]
  },
  {
   "cell_type": "code",
   "execution_count": 84,
   "id": "286748d5-3fd7-4ab6-9090-7253dd4c9a5a",
   "metadata": {},
   "outputs": [
    {
     "ename": "SyntaxError",
     "evalue": "expected ':' (3544687557.py, line 33)",
     "output_type": "error",
     "traceback": [
      "\u001b[0;36m  Cell \u001b[0;32mIn[84], line 33\u001b[0;36m\u001b[0m\n\u001b[0;31m    class Eläketulovähennys\u001b[0m\n\u001b[0m                           ^\u001b[0m\n\u001b[0;31mSyntaxError\u001b[0m\u001b[0;31m:\u001b[0m expected ':'\n"
     ]
    }
   ],
   "source": [
    "def between(x, a, b=1e12):\n",
    "    return np.clip(x, a, b) - a\n",
    "    \n",
    "\n",
    "@dataclasses.dataclass\n",
    "class Ansiotulovähennys:\n",
    "    cap: float = 3_570\n",
    "    r1: float = 2_500\n",
    "    r2: float = 7_230\n",
    "    r3: float = 14_000\n",
    "    t1: float = (51 / 100)\n",
    "    t2: float = (28 / 100)\n",
    "    t3: float = (4.5 / 100)\n",
    "    \n",
    "    def __call__(self, palkkatulot, puhtaat_ansiotulot):\n",
    "        up1 = self.t1 * between(palkkatulot, self.r1, self.r2)\n",
    "        up2 = self.t2 * between(palkkatulot, self.r2)\n",
    "        up = np.maximum(up1 + up2, self.cap)\n",
    "        dn = self.t3 * between(puhtaat_ansiotulot, self.r3)\n",
    "        return np.maximum(up - dn, 0)\n",
    "\n",
    "\n",
    "@dataclasses.dataclass\n",
    "class Perusvähennys:\n",
    "    cap: float = 3_740\n",
    "    rate: float = (18 / 100)\n",
    "\n",
    "    def __call__(self, tulot):\n",
    "        up = np.minimum(tulot, self.cap)\n",
    "        dn = self.rate * between(tulot, self.cap)\n",
    "        return np.maximum(up - dn, 0)\n",
    "\n",
    "class Eläketulovähennys"
   ]
  },
  {
   "cell_type": "code",
   "execution_count": null,
   "id": "b9f292b5-8a7a-4594-9415-0f19a3419772",
   "metadata": {},
   "outputs": [],
   "source": [
    "ATV = Ansiotulovähennys()\n",
    "PV = Perusvähennys()\n",
    "\n",
    "print(ATV(10_000, 15_000))\n",
    "print(PV(4_000))"
   ]
  },
  {
   "cell_type": "code",
   "execution_count": null,
   "id": "4fbc2b54-e077-49aa-a820-bdd43979c8c2",
   "metadata": {},
   "outputs": [],
   "source": [
    "r_tyel = (7.15 / 100)\n",
    "r_tvm = (1.50 / 100)\n",
    "\n",
    "pt = 10_000\n",
    "et = 10_000\n",
    "vv = 1_000\n",
    "\n",
    "tyel = r_tyel * pt\n",
    "tvm = r_tvm * pt\n",
    "at1 = pt + et - tyel - tvm\n",
    "pat = at0 - min(pat0, 750)\n",
    "pat1 = pat vv\n",
    "pat2 -= ATV(pt, pat)\n",
    "pat3 -= PV(pat2)\n",
    "vt = "
   ]
  }
 ],
 "metadata": {
  "kernelspec": {
   "display_name": "Python 3 (ipykernel)",
   "language": "python",
   "name": "python3"
  },
  "language_info": {
   "codemirror_mode": {
    "name": "ipython",
    "version": 3
   },
   "file_extension": ".py",
   "mimetype": "text/x-python",
   "name": "python",
   "nbconvert_exporter": "python",
   "pygments_lexer": "ipython3",
   "version": "3.12.3"
  }
 },
 "nbformat": 4,
 "nbformat_minor": 5
}
